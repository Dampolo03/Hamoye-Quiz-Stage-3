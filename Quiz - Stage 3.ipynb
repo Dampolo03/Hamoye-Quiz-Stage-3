{
 "cells": [
  {
   "cell_type": "markdown",
   "metadata": {},
   "source": [
    "## Question 1"
   ]
  },
  {
   "cell_type": "code",
   "execution_count": 1,
   "metadata": {},
   "outputs": [],
   "source": [
    "# Import the necessary library\n",
    "import pandas as pd\n",
    "import numpy as np"
   ]
  },
  {
   "cell_type": "code",
   "execution_count": 2,
   "metadata": {
    "scrolled": true
   },
   "outputs": [
    {
     "data": {
      "text/html": [
       "<div>\n",
       "<style scoped>\n",
       "    .dataframe tbody tr th:only-of-type {\n",
       "        vertical-align: middle;\n",
       "    }\n",
       "\n",
       "    .dataframe tbody tr th {\n",
       "        vertical-align: top;\n",
       "    }\n",
       "\n",
       "    .dataframe thead th {\n",
       "        text-align: right;\n",
       "    }\n",
       "</style>\n",
       "<table border=\"1\" class=\"dataframe\">\n",
       "  <thead>\n",
       "    <tr style=\"text-align: right;\">\n",
       "      <th></th>\n",
       "      <th>Actual Spam</th>\n",
       "      <th>Actual Not Spam</th>\n",
       "    </tr>\n",
       "  </thead>\n",
       "  <tbody>\n",
       "    <tr>\n",
       "      <th>Predicted Spam</th>\n",
       "      <td>355</td>\n",
       "      <td>1480</td>\n",
       "    </tr>\n",
       "    <tr>\n",
       "      <th>Predicted Not Spam</th>\n",
       "      <td>45</td>\n",
       "      <td>120</td>\n",
       "    </tr>\n",
       "  </tbody>\n",
       "</table>\n",
       "</div>"
      ],
      "text/plain": [
       "                    Actual Spam  Actual Not Spam\n",
       "Predicted Spam              355             1480\n",
       "Predicted Not Spam           45              120"
      ]
     },
     "execution_count": 2,
     "metadata": {},
     "output_type": "execute_result"
    }
   ],
   "source": [
    "# Show the correlation matrix\n",
    "corr_data = [[355, 1480], [45, 120]]\n",
    "corr_matrix = pd.DataFrame(corr_data, index=['Predicted Spam', 'Predicted Not Spam'],columns=['Actual Spam', 'Actual Not Spam'])\n",
    "\n",
    "corr_matrix"
   ]
  },
  {
   "cell_type": "code",
   "execution_count": 3,
   "metadata": {},
   "outputs": [
    {
     "name": "stdout",
     "output_type": "stream",
     "text": [
      "F1 Score = 0.3177\n"
     ]
    }
   ],
   "source": [
    "# F1 Score = 2 * ((Precision * Recall)/(Precision + Recall))\n",
    "# where Precison = TP/(TP + FP) and Recall = TP/(TP + FN)\n",
    "# From the correlation matrix:\n",
    "TP = corr_matrix.iloc[0][0]\n",
    "FP = corr_matrix.iloc[0][1]\n",
    "TN = corr_matrix.iloc[1][1]\n",
    "FN = corr_matrix.iloc[1][0]\n",
    "\n",
    "# To obtain the precision and recall:\n",
    "Precision = TP/(TP + FP)\n",
    "Recall = TP/(TP + FN)\n",
    "\n",
    "# To obtain the F1 Score:\n",
    "print('F1 Score = {}'.format(np.round(2 * ((Precision * Recall)/(Precision + Recall)), 4)))"
   ]
  },
  {
   "cell_type": "markdown",
   "metadata": {},
   "source": [
    "## Question 14"
   ]
  },
  {
   "cell_type": "markdown",
   "metadata": {},
   "source": [
    "### Classification - Managing the Quality Metric of Global Ecological Footprint\n",
    "\n",
    "\n",
    "Stability of the Grid System\n",
    "\n",
    "Electrical grids require a balance between electricity supply and demand in order to be stable. Conventional systems achieve this balance through demand-driven electricity production. For future grids with a high share of inflexible (i.e., renewable) energy source, the concept of demand response is a promising solution. This implies changes in electricity consumption in relation to electricity price changes. In this work, we’ll build a binary classification model to predict if a grid is stable or unstable using the UCI Electrical Grid Stability Simulated dataset.\n",
    "\n",
    "Dataset: https://archive.ics.uci.edu/ml/datasets/Electrical+Grid+Stability+Simulated+Data+\n",
    "\n",
    "It has 12 primary predictive features and two dependent variables.\n",
    "\n",
    "Predictive features:\n",
    "\n",
    "    'tau1' to 'tau4': the reaction time of each network participant, a real value within the range 0.5 to 10 ('tau1' corresponds to the supplier node, 'tau2' to 'tau4' to the consumer nodes);\n",
    "    'p1' to 'p4': nominal power produced (positive) or consumed (negative) by each network participant, a real value within the range -2.0 to -0.5 for consumers ('p2' to 'p4'). As the total power consumed equals the total power generated, p1 (supplier node) = - (p2 + p3 + p4);\n",
    "    'g1' to 'g4': price elasticity coefficient for each network participant, a real value within the range 0.05 to 1.00 ('g1' corresponds to the supplier node, 'g2' to 'g4' to the consumer nodes; 'g' stands for 'gamma');\n",
    "\n",
    "Dependent variables:\n",
    "\n",
    "    'stab': the maximum real part of the characteristic differential equation root (if positive, the system is linearly unstable; if negative, linearly stable);\n",
    "    'stabf': a categorical (binary) label ('stable' or 'unstable').\n"
   ]
  },
  {
   "cell_type": "code",
   "execution_count": 4,
   "metadata": {
    "scrolled": true
   },
   "outputs": [
    {
     "name": "stdout",
     "output_type": "stream",
     "text": [
      "tau1     0\n",
      "tau2     0\n",
      "tau3     0\n",
      "tau4     0\n",
      "p1       0\n",
      "p2       0\n",
      "p3       0\n",
      "p4       0\n",
      "g1       0\n",
      "g2       0\n",
      "g3       0\n",
      "g4       0\n",
      "stab     0\n",
      "stabf    0\n",
      "dtype: int64\n",
      "tau1     float64\n",
      "tau2     float64\n",
      "tau3     float64\n",
      "tau4     float64\n",
      "p1       float64\n",
      "p2       float64\n",
      "p3       float64\n",
      "p4       float64\n",
      "g1       float64\n",
      "g2       float64\n",
      "g3       float64\n",
      "g4       float64\n",
      "stab     float64\n",
      "stabf     object\n",
      "dtype: object\n"
     ]
    }
   ],
   "source": [
    "# Load the data\n",
    "data = pd.read_csv('Data_for_UCI_named.csv')\n",
    "\n",
    "# View the first five rows of the data\n",
    "data.head(5)\n",
    "\n",
    "# Check for missing values\n",
    "print(data.isnull().sum())\n",
    "\n",
    "# Check for dtypes\n",
    "print(data.dtypes)"
   ]
  },
  {
   "cell_type": "code",
   "execution_count": 5,
   "metadata": {},
   "outputs": [
    {
     "name": "stdout",
     "output_type": "stream",
     "text": [
      "0.929\n"
     ]
    }
   ],
   "source": [
    "# Delete the stab column\n",
    "data = data.drop('stab', axis = 1)\n",
    "\n",
    "# Importing an encoder\n",
    "from sklearn.preprocessing import LabelEncoder\n",
    "\n",
    "# Fit the encoder and transform stabf\n",
    "label = LabelEncoder()\n",
    "data['stabf'] = label.fit(data['stabf']).transform(data['stabf'])\n",
    "\n",
    "# Importing a scaler for the data\n",
    "from sklearn.preprocessing import StandardScaler\n",
    "\n",
    "# Fit the scaler and transform the data\n",
    "scaler = StandardScaler()\n",
    "scaled_df = pd.DataFrame(scaler.fit_transform(data), columns=data.columns)\n",
    "\n",
    "# Obtain x and y\n",
    "x = scaled_df.drop('stabf', axis = 1)\n",
    "y = data['stabf']\n",
    "\n",
    "# Obtain the training (80%) and test data (20%)\n",
    "from sklearn.model_selection import train_test_split\n",
    "xtrain, xtest, ytrain, ytest = train_test_split(x , y, test_size = 0.2, random_state = 1)\n",
    "\n",
    "# Importing Random Forest Classifier, setting the random state = 1\n",
    "from sklearn.ensemble import RandomForestClassifier\n",
    "clf = RandomForestClassifier(random_state = 1)\n",
    "\n",
    "# Fit the model\n",
    "clf.fit(xtrain, ytrain)\n",
    "\n",
    "# Predict on the test data\n",
    "clf_pred = clf.predict(xtest)\n",
    "\n",
    "# Obtain the accuracy\n",
    "from sklearn.metrics import accuracy_score\n",
    "clf_acc = accuracy_score(clf_pred, ytest)\n",
    "print(clf_acc)"
   ]
  },
  {
   "cell_type": "markdown",
   "metadata": {},
   "source": [
    "## Question 15"
   ]
  },
  {
   "cell_type": "code",
   "execution_count": 6,
   "metadata": {},
   "outputs": [
    {
     "name": "stdout",
     "output_type": "stream",
     "text": [
      "0.9455\n"
     ]
    }
   ],
   "source": [
    "# Importing XGBoost Classifier, setting the random state = 1\n",
    "import xgboost as xgb\n",
    "model = xgb.XGBClassifier(random_state = 1)\n",
    "\n",
    "# Fit the model\n",
    "model.fit(xtrain, ytrain)\n",
    "\n",
    "# Predict on the test data\n",
    "model_pred = model.predict(xtest)\n",
    "\n",
    "# Obtain the accuracy\n",
    "model_acc = accuracy_score(model_pred, ytest)\n",
    "print(model_acc)"
   ]
  },
  {
   "cell_type": "markdown",
   "metadata": {},
   "source": [
    "## Question 16"
   ]
  },
  {
   "cell_type": "code",
   "execution_count": 7,
   "metadata": {},
   "outputs": [
    {
     "name": "stdout",
     "output_type": "stream",
     "text": [
      "0.9475\n"
     ]
    }
   ],
   "source": [
    "# Importing LGBM Classifier, setting random state = 1\n",
    "import lightgbm as gbm\n",
    "lgbm = gbm.LGBMClassifier(random_state = 1)\n",
    "\n",
    "# Fit the model\n",
    "lgbm.fit(xtrain, ytrain)\n",
    "\n",
    "# Predict on the test data\n",
    "lgbm_pred = lgbm.predict(xtest)\n",
    "\n",
    "# Obtain the accuracy\n",
    "lgbm_acc = accuracy_score(lgbm_pred, ytest)\n",
    "print(lgbm_acc)"
   ]
  },
  {
   "cell_type": "markdown",
   "metadata": {},
   "source": [
    "## Question 17"
   ]
  },
  {
   "cell_type": "code",
   "execution_count": 8,
   "metadata": {},
   "outputs": [
    {
     "name": "stdout",
     "output_type": "stream",
     "text": [
      "Fitting 5 folds for each of 10 candidates, totalling 50 fits\n"
     ]
    },
    {
     "name": "stderr",
     "output_type": "stream",
     "text": [
      "[Parallel(n_jobs=-1)]: Using backend LokyBackend with 4 concurrent workers.\n",
      "[Parallel(n_jobs=-1)]: Done  42 tasks      | elapsed:   40.3s\n",
      "[Parallel(n_jobs=-1)]: Done  50 out of  50 | elapsed:   45.2s finished\n"
     ]
    },
    {
     "name": "stdout",
     "output_type": "stream",
     "text": [
      "ExtraTreesClassifier(max_features=None, min_samples_leaf=8, n_estimators=1000)\n",
      "2\n"
     ]
    }
   ],
   "source": [
    "# Importing Extra Trees Classifier\n",
    "from sklearn.ensemble import ExtraTreesClassifier\n",
    "extra = ExtraTreesClassifier()\n",
    "\n",
    "# Hyper-parameters\n",
    "n_estimators = [50, 100, 300, 500, 1000]\n",
    "min_samples_split = [2, 3, 5, 7, 9]\n",
    "min_samples_leaf = [1, 2, 4, 6, 8]\n",
    "max_features = ['auto', 'sqrt', 'log2', None]\n",
    "\n",
    "# Parameter grid\n",
    "param_grid = {'n_estimators': n_estimators, 'min_samples_leaf': min_samples_leaf, 'min_samples_split': min_samples_split, 'max_features': max_features}\n",
    "\n",
    "# Importing Random Search CV\n",
    "from sklearn.model_selection import RandomizedSearchCV\n",
    "\n",
    "# Random Search for hyper-parameter optimization\n",
    "rscv = RandomizedSearchCV(extra, param_grid, cv = 5, n_iter = 10, scoring = 'accuracy', n_jobs = -1, verbose = 1, random_state = 1)\n",
    "\n",
    "# Fit the model\n",
    "rscv.fit(xtrain, ytrain)\n",
    "\n",
    "# Obtain the best estimators\n",
    "print(rscv.best_estimator_)\n",
    "print(rscv.best_estimator_.min_samples_split)"
   ]
  },
  {
   "cell_type": "markdown",
   "metadata": {},
   "source": [
    "## Question 18"
   ]
  },
  {
   "cell_type": "code",
   "execution_count": 18,
   "metadata": {},
   "outputs": [
    {
     "name": "stdout",
     "output_type": "stream",
     "text": [
      "0.927\n",
      "0.933\n"
     ]
    }
   ],
   "source": [
    "# Taking the new optimal model\n",
    "extclass = ExtraTreesClassifier(max_features = None, min_samples_leaf = 8, n_estimators = 1000, min_samples_split = 2, random_state = 1)\n",
    "\n",
    "# Fit the model\n",
    "extclass.fit(xtrain, ytrain)\n",
    "\n",
    "# Predict on the test data\n",
    "extclass_pred = extclass.predict(xtest)\n",
    "\n",
    "# Obtain the accuracy\n",
    "extclass_acc = accuracy_score(extclass_pred, ytest)\n",
    "print(extclass_acc)\n",
    "\n",
    "# Taking the initial Extra Trees Classifier with no hyper-parameter tuning\n",
    "# Fit the model\n",
    "extra.fit(xtrain, ytrain)\n",
    "\n",
    "# Predict on the test data\n",
    "extra_pred = extra.predict(xtest)\n",
    "\n",
    "# Obtain the accuracy\n",
    "extra_acc = accuracy_score(extra_pred, ytest)\n",
    "print(extra_acc)\n",
    "\n",
    "# extclass_pred < extra_pred\n",
    "# The accuracy of the new optimal model is lower than the initial Extra Trees Classifier model with no hyper-parameter tuning"
   ]
  },
  {
   "cell_type": "markdown",
   "metadata": {},
   "source": [
    "## Question 20"
   ]
  },
  {
   "cell_type": "code",
   "execution_count": 10,
   "metadata": {},
   "outputs": [
    {
     "data": {
      "text/plain": [
       "<bound method DataFrame.nsmallest of    Features  Feature_Importance\n",
       "0        p1            0.038917\n",
       "1        p2            0.040555\n",
       "2        p4            0.040642\n",
       "3        p3            0.040796\n",
       "4        g1            0.089804\n",
       "5        g4            0.093572\n",
       "6        g2            0.094504\n",
       "7        g3            0.096153\n",
       "8      tau4            0.113514\n",
       "9      tau3            0.115735\n",
       "10     tau1            0.117553\n",
       "11     tau2            0.118254>"
      ]
     },
     "execution_count": 10,
     "metadata": {},
     "output_type": "execute_result"
    }
   ],
   "source": [
    "# Function to obtain the important features\n",
    "def get_weights_df(model, feat, col_name):\n",
    "  weights = pd.Series(model.feature_importances_, feat.columns).sort_values()\n",
    "  weights_df = pd.DataFrame(weights).reset_index()\n",
    "  weights_df.columns = ['Features', col_name]\n",
    "  weights_df[col_name].round(3)\n",
    "  return weights_df\n",
    "\n",
    "extra.fit(xtrain, ytrain)\n",
    "\n",
    "model_weights = get_weights_df(extra, xtrain, 'Feature_Importance')\n",
    "model_weights.nsmallest"
   ]
  },
  {
   "cell_type": "code",
   "execution_count": 19,
   "metadata": {},
   "outputs": [],
   "source": [
    "# Most important is tau2. Least important is p1."
   ]
  },
  {
   "cell_type": "code",
   "execution_count": null,
   "metadata": {},
   "outputs": [],
   "source": []
  }
 ],
 "metadata": {
  "kernelspec": {
   "display_name": "Python 3",
   "language": "python",
   "name": "python3"
  },
  "language_info": {
   "codemirror_mode": {
    "name": "ipython",
    "version": 3
   },
   "file_extension": ".py",
   "mimetype": "text/x-python",
   "name": "python",
   "nbconvert_exporter": "python",
   "pygments_lexer": "ipython3",
   "version": "3.8.3"
  }
 },
 "nbformat": 4,
 "nbformat_minor": 4
}
